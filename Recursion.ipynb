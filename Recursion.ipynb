{
 "cells": [
  {
   "cell_type": "code",
   "execution_count": 19,
   "metadata": {},
   "outputs": [],
   "source": [
    "# Part 1\n",
    "def fibonnaci(n):     \n",
    "    if n==1:\n",
    "            return 1\n",
    "    elif n==2:\n",
    "            return 1\n",
    "    \n",
    "    else:\n",
    "            return (fibonacci(n-1)+fibonacci(n-2))\n",
    "\n",
    "# Part 2        \n",
    "def gcd(x,y):\n",
    "    if y==0:\n",
    "            return x\n",
    "    \n",
    "    else:   \n",
    "            return (gcd(y, x%y))\n",
    "        \n",
    "# Part 3 \n",
    "def compareTo(s1,s2):        \n",
    "                \n",
    "        if (len(s1) == 0 and len(s2) == 0):\n",
    "                return 0\n",
    "        \n",
    "        elif (ord(s1[0]) < ord(s2[0])):\n",
    "                return (-(ord(s2[0])))\n",
    "        \n",
    "        elif (orf(s1[0]) > ord(s2[0])):\n",
    "                return (abs(ord(s1[0])))\n",
    "        \n",
    "        elif (s1[1:2] == '' and s2[1:2] == ''):\n",
    "                return 0\n",
    "        \n",
    "        else:\n",
    "                return compareTo(s1[1:], s2[1:])"
   ]
  },
  {
   "cell_type": "code",
   "execution_count": null,
   "metadata": {},
   "outputs": [],
   "source": []
  }
 ],
 "metadata": {
  "kernelspec": {
   "display_name": "Python 2",
   "language": "python",
   "name": "python2"
  },
  "language_info": {
   "codemirror_mode": {
    "name": "ipython",
    "version": 2
   },
   "file_extension": ".py",
   "mimetype": "text/x-python",
   "name": "python",
   "nbconvert_exporter": "python",
   "pygments_lexer": "ipython2",
   "version": "2.7.15"
  }
 },
 "nbformat": 4,
 "nbformat_minor": 2
}
